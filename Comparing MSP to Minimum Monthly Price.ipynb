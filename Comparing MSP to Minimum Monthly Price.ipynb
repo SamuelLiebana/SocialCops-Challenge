{
 "cells": [
  {
   "cell_type": "code",
   "execution_count": 34,
   "metadata": {},
   "outputs": [],
   "source": [
    "#Note - run cells in the below order (and do not re-run them individually)\n",
    "#     - place csv files in the same folder as the jupyter notebook  \n",
    "\n",
    "import csv #importing required libraries\n",
    "from collections import defaultdict\n",
    "import matplotlib.pyplot as plt\n",
    "import numpy as np\n",
    "from ipywidgets import interact, interactive, fixed, interact_manual\n",
    "import ipywidgets as widgets\n",
    "\n",
    "import matplotlib.pyplot as plt\n",
    "%matplotlib inline\n",
    "\n",
    "\n",
    "with open('deseasonalised_data.csv', newline='') as csvfile: #import monthly deseasonalised data as nested dictionary\n",
    "    \n",
    "    APMC = csv.reader(csvfile)\n",
    "    \n",
    "    #will only work with raw and trend data, hence we only initialise these two dictionaries\n",
    "    APMC_raw_data = defaultdict(lambda: defaultdict(lambda: defaultdict(lambda: defaultdict(lambda: defaultdict(lambda: defaultdict(lambda: defaultdict(int)))))))\n",
    "    \n",
    "    APMC_trend_data = defaultdict(lambda: defaultdict(lambda: defaultdict(lambda: defaultdict(lambda: defaultdict(lambda: defaultdict(lambda: defaultdict(int)))))))\n",
    "    \n",
    "    APMC_district_name_product = set()\n",
    "\n",
    "    \n",
    "    i=0\n",
    "    for row in APMC:\n",
    "        if i > 0: #do not import first row (they are the names of the columns)\n",
    "         \n",
    "            #populate the dictionaries with the appropriate data from the csv files\n",
    "            \n",
    "            APMC_district_name_product.add((row[20].lower(),row[0].lower(),row[1].lower()))\n",
    "            \n",
    "            #I will only look at the min_price data as this is the most important to compare with the MSP\n",
    "            \n",
    "            APMC_raw_data[row[21].lower()][row[20].lower()][row[0].lower()][row[1].lower()][int(row[2])][int(row[3])] = int(row[8])\n",
    "            \n",
    "            APMC_trend_data[row[21].lower()][row[20].lower()][row[0].lower()][row[1].lower()][int(row[2])][int(row[3])] = int(float(row[9]))\n",
    "            \n",
    "                \n",
    "        i+=1\n",
    "    \n",
    "\n"
   ]
  },
  {
   "cell_type": "code",
   "execution_count": 35,
   "metadata": {},
   "outputs": [],
   "source": [
    "#import the minimum support price values \n",
    "\n",
    "with open('CMO_MSP_Mandi.csv', newline='') as csvfile:\n",
    "   \n",
    "    CMO_MSP = csv.reader(csvfile)\n",
    "    \n",
    "    msprice = defaultdict(lambda: defaultdict(lambda: defaultdict(int))) #importing minimum support price data as nested dictionary\n",
    "    \n",
    "    MSP_product_year = set() #set containing the commodity, year couples for which we have MSP information\n",
    "    \n",
    "    i=0\n",
    "    for row in CMO_MSP:\n",
    "        if i > 0: #do not import first row (they are the names of the columns)\n",
    "            \n",
    "            \n",
    "            try:\n",
    "                a= int(row[3])\n",
    "            \n",
    "            except: #assign 0 to missing values\n",
    "                a=0\n",
    "            \n",
    "            msprice[row[0].lower()][int(row[1])] = a\n",
    "            \n",
    "            MSP_product_year.add((row[0].lower(),int(row[1])))\n",
    "                \n",
    "        i+=1\n",
    "    \n",
    "\n"
   ]
  },
  {
   "cell_type": "code",
   "execution_count": 36,
   "metadata": {},
   "outputs": [],
   "source": [
    "#To compare the MSP to the monthly data I will compute the mean difference between the MSP and the minimum price for each year \n",
    "#for each commodity. In this way the government of Maharashtra can see where they need to intervene to help farmers with their costs.\n",
    "\n",
    "#initialising average difference dictionaries for the raw and deseasonalised data for min_price\n",
    "APMC_average_difference_raw = defaultdict(lambda: defaultdict(lambda: defaultdict(lambda: defaultdict(lambda: defaultdict(lambda: defaultdict(int))))))\n",
    "APMC_average_difference_trend = defaultdict(lambda: defaultdict(lambda: defaultdict(lambda: defaultdict(lambda: defaultdict(lambda: defaultdict(int))))))\n",
    "\n",
    "\n",
    "#iterate over commodities and years and compute the monthly average of the min_price data (raw and trend) for each year\n",
    "#subsequently subtract the MSP for that year and commodity to get the average difference\n",
    "\n",
    "for dist_name_prod in APMC_district_name_product:\n",
    "    \n",
    "    years = list(APMC_raw_data['maharashtra'][dist_name_prod[0]][dist_name_prod[1]][dist_name_prod[2]].keys())\n",
    "    \n",
    "    for year in sorted(years):\n",
    "        \n",
    "        #only compute the average difference if we have a value for the MSP of that commodity\n",
    "        \n",
    "        if msprice[dist_name_prod[2]][year] !=0 and (dist_name_prod[2], year) in MSP_product_year:\n",
    "            \n",
    "            \n",
    "            \n",
    "            months = list(APMC_raw_data['maharashtra'][dist_name_prod[0]][dist_name_prod[1]][dist_name_prod[2]][year].keys())\n",
    "            \n",
    "            var_raw = 0\n",
    "            \n",
    "            var_trend = 0\n",
    "            \n",
    "            for month in sorted(months):\n",
    "                \n",
    "                #accumulate monthly figures to compute the yearly mean of min_price raw and trend\n",
    "                var_raw += APMC_raw_data['maharashtra'][dist_name_prod[0]][dist_name_prod[1]][dist_name_prod[2]][year][month]\n",
    "                var_trend += APMC_trend_data['maharashtra'][dist_name_prod[0]][dist_name_prod[1]][dist_name_prod[2]][year][month]\n",
    "                \n",
    "            #compute the mean difference\n",
    "            APMC_average_difference_raw['maharashtra'][dist_name_prod[0]][dist_name_prod[1]][dist_name_prod[2]][year] = var_raw/len(months) - msprice[dist_name_prod[2]][year]\n",
    "            APMC_average_difference_trend['maharashtra'][dist_name_prod[0]][dist_name_prod[1]][dist_name_prod[2]][year] = var_trend/len(months) - msprice[dist_name_prod[2]][year]\n",
    "            \n",
    "            \n",
    "        #if we don't have a value for the MSP of that commodity then label the average difference as invalid with the string 'NO MSP'\n",
    "        else:\n",
    "            \n",
    "            APMC_average_difference_raw['maharashtra'][dist_name_prod[0]][dist_name_prod[1]][dist_name_prod[2]][year] = 'NO MSP'\n",
    "            APMC_average_difference_trend['maharashtra'][dist_name_prod[0]][dist_name_prod[1]][dist_name_prod[2]][year] = 'NO MSP'\n",
    "            \n",
    "        \n",
    "        \n",
    "\n"
   ]
  },
  {
   "cell_type": "code",
   "execution_count": 37,
   "metadata": {},
   "outputs": [],
   "source": [
    "#write the mean differences to a new csv file named 'msp_comparison.csv' \n",
    "with open('msp_comparison.csv', mode='w', newline='') as clean_data:\n",
    "    \n",
    "    clean_data_writer = csv.writer(clean_data, delimiter=',', quotechar='\"', quoting=csv.QUOTE_NONE)\n",
    "    \n",
    "    #first row contains the titles of the columns\n",
    "    clean_data_writer.writerow(['APMC', 'Commodity','year','Average Difference Raw','Average Difference Deseasonalised','district_name', 'state_name'])\n",
    "    \n",
    "    #iterate over commodities and years\n",
    "    for dist_name_prod in APMC_district_name_product:\n",
    "        \n",
    "        years = list(APMC_raw_data['maharashtra'][dist_name_prod[0]][dist_name_prod[1]][dist_name_prod[2]].keys())\n",
    "        \n",
    "        for year in sorted(years):\n",
    "            \n",
    "            #write the data follwowing the structure dictated by the titles in the first row\n",
    "            clean_data_writer.writerow([dist_name_prod[1], dist_name_prod[2], year, APMC_average_difference_raw['maharashtra'][dist_name_prod[0]][dist_name_prod[1]][dist_name_prod[2]][year], APMC_average_difference_trend['maharashtra'][dist_name_prod[0]][dist_name_prod[1]][dist_name_prod[2]][year], dist_name_prod[0], 'maharashtra'])\n",
    "            \n",
    "\n",
    "#write the negative mean differences to a new csv file named 'msp_too_high.csv' \n",
    "\n",
    "with open('msp_too_high.csv', mode='w', newline='') as high_data:\n",
    "    \n",
    "    high_data_writer = csv.writer(high_data, delimiter=',', quotechar='\"', quoting=csv.QUOTE_NONE)\n",
    "    \n",
    "    #first row contains the titles of the columns\n",
    "    high_data_writer.writerow(['APMC', 'Commodity','year','Average Difference Raw','Average Difference Deseasonalised','district_name', 'state_name'])\n",
    "    \n",
    "    #iterate over commodities and years\n",
    "    for dist_name_prod in APMC_district_name_product:\n",
    "        \n",
    "        years = list(APMC_raw_data['maharashtra'][dist_name_prod[0]][dist_name_prod[1]][dist_name_prod[2]].keys())\n",
    "        \n",
    "        for year in sorted(years):\n",
    "            \n",
    "            #only if we have MSP values for this APMC\n",
    "            if APMC_average_difference_raw['maharashtra'][dist_name_prod[0]][dist_name_prod[1]][dist_name_prod[2]][year] != 'NO MSP':\n",
    "                \n",
    "                #only if the MSP is too high\n",
    "                if APMC_average_difference_raw['maharashtra'][dist_name_prod[0]][dist_name_prod[1]][dist_name_prod[2]][year] <0 or APMC_average_difference_trend['maharashtra'][dist_name_prod[0]][dist_name_prod[1]][dist_name_prod[2]][year]<0:\n",
    "\n",
    "                    #write the data follwowing the structure dictated by the titles in the first row\n",
    "                    high_data_writer.writerow([dist_name_prod[1], dist_name_prod[2], year, APMC_average_difference_raw['maharashtra'][dist_name_prod[0]][dist_name_prod[1]][dist_name_prod[2]][year], APMC_average_difference_trend['maharashtra'][dist_name_prod[0]][dist_name_prod[1]][dist_name_prod[2]][year], dist_name_prod[0], 'maharashtra'])\n",
    "\n",
    "            \n",
    "            \n",
    "    \n",
    "            "
   ]
  },
  {
   "cell_type": "code",
   "execution_count": 38,
   "metadata": {},
   "outputs": [
    {
     "data": {
      "application/vnd.jupyter.widget-view+json": {
       "model_id": "3012ac8a70ab4b9784fa2ff063c7d1fc",
       "version_major": 2,
       "version_minor": 0
      },
      "text/plain": [
       "interactive(children=(FloatSlider(value=0.0, description='correction1', max=14458.0, min=-14458.0, step=28.916…"
      ]
     },
     "metadata": {},
     "output_type": "display_data"
    },
    {
     "data": {
      "application/vnd.jupyter.widget-view+json": {
       "model_id": "5297de08f38d467f9f3bd098a7851177",
       "version_major": 2,
       "version_minor": 0
      },
      "text/plain": [
       "interactive(children=(FloatSlider(value=0.0, description='correction2', max=12972.0, min=-12972.0, step=25.944…"
      ]
     },
     "metadata": {},
     "output_type": "display_data"
    },
    {
     "data": {
      "text/plain": [
       "<function __main__.plot_func2(correction2)>"
      ]
     },
     "execution_count": 38,
     "metadata": {},
     "output_type": "execute_result"
    }
   ],
   "source": [
    "#plotting time series to show the MSP with respect to the minimum price\n",
    "\n",
    "\n",
    "#e.g. Split Black Gram in Mumbai\n",
    "\n",
    "x1=[]\n",
    "x2=[]\n",
    "\n",
    "\n",
    "    \n",
    "months = list(APMC_raw_data['maharashtra']['mumbai']['mumbai']['split black gram'][2016].keys())\n",
    "        \n",
    "    \n",
    "for month in sorted(months):\n",
    "            \n",
    "    x1.append(APMC_raw_data['maharashtra']['mumbai']['mumbai']['split black gram'][2016][month])\n",
    "    x2.append(APMC_trend_data['maharashtra']['mumbai']['mumbai']['split black gram'][2016][month])\n",
    "\n",
    "#plot interactive figures where the MSP can be changed by the government \n",
    "#to ensure that it is always below the minimum market price\n",
    " \n",
    "def plot_func1(correction1):\n",
    "    plt.figure(1)\n",
    "    plt.plot(x1)\n",
    "    plt.axhline(y= msprice['split black gram'][2016] + correction1 , color='r', linestyle='-')\n",
    "    plt.title('Minimum Price (raw) compared to MSP: ALWAYS ABOVE')\n",
    "    plt.xlabel('Months since January 2016')\n",
    "    plt.ylabel('Price')\n",
    "\n",
    "interact(plot_func1, correction1 = widgets.FloatSlider(value=0,\n",
    "                                               min=-max(x1),\n",
    "                                               max=max(x1),\n",
    "                                               step=2*max(x1)/1000))\n",
    "\n",
    "def plot_func2(correction2):\n",
    "    plt.figure(2)\n",
    "    plt.plot(x2)\n",
    "    plt.axhline(y= msprice['split black gram'][2016] + correction2, color='r', linestyle='-')\n",
    "    plt.title('Minimum Price (trend) compared to MSP: ALWAYS ABOVE')\n",
    "    plt.xlabel('Months since January 2016')\n",
    "    plt.ylabel('Price')\n",
    "    \n",
    "\n",
    "interact(plot_func2, correction2 = widgets.FloatSlider(value=0,\n",
    "                                               min=-max(x2),\n",
    "                                               max=max(x2),\n",
    "                                               step=2*max(x2)/1000))"
   ]
  },
  {
   "cell_type": "code",
   "execution_count": 39,
   "metadata": {},
   "outputs": [
    {
     "data": {
      "application/vnd.jupyter.widget-view+json": {
       "model_id": "82cfed1976c74b1da4467ac42a1ab888",
       "version_major": 2,
       "version_minor": 0
      },
      "text/plain": [
       "interactive(children=(FloatSlider(value=0.0, description='correction3', max=1607.0, min=-1607.0, step=3.214), …"
      ]
     },
     "metadata": {},
     "output_type": "display_data"
    },
    {
     "data": {
      "application/vnd.jupyter.widget-view+json": {
       "model_id": "c8cd420aae8c4ff1977dc4de0b2d358c",
       "version_major": 2,
       "version_minor": 0
      },
      "text/plain": [
       "interactive(children=(FloatSlider(value=0.0, description='correction4', max=1489.0, min=-1489.0, step=2.978), …"
      ]
     },
     "metadata": {},
     "output_type": "display_data"
    },
    {
     "data": {
      "text/plain": [
       "<function __main__.plot_func4(correction4)>"
      ]
     },
     "execution_count": 39,
     "metadata": {},
     "output_type": "execute_result"
    }
   ],
   "source": [
    "#plotting time series to show the MSP with respect to the minimum price\n",
    "\n",
    "#e.g. Maize in Bhokardan\n",
    "\n",
    "y1=[]\n",
    "y2=[]\n",
    "\n",
    "\n",
    "    \n",
    "months = list(APMC_raw_data['maharashtra']['jalna']['bhokardan']['maize'][2016].keys())\n",
    "        \n",
    "    \n",
    "for month in sorted(months):\n",
    "            \n",
    "    y1.append(APMC_raw_data['maharashtra']['jalna']['bhokardan']['maize'][2016][month])\n",
    "    y2.append(APMC_trend_data['maharashtra']['jalna']['bhokardan']['maize'][2016][month])\n",
    "\n",
    "    \n",
    "#plot interactive figures where the MSP can be changed by the government \n",
    "#to ensure that it is always below the minimum market price\n",
    "\n",
    "def plot_func3(correction3):\n",
    "    plt.figure(1)\n",
    "    plt.plot(y1)\n",
    "    plt.axhline(y= msprice['maize'][2016] +correction3, color='r', linestyle='-')\n",
    "    plt.title('Minimum Price (raw) compared to MSP: CROSSING')\n",
    "    plt.xlabel('Months since January 2016')\n",
    "    plt.ylabel('Price')\n",
    "\n",
    "interact(plot_func3, correction3 = widgets.FloatSlider(value=0,\n",
    "                                               min=-max(y1),\n",
    "                                               max=max(y1),\n",
    "                                               step=2*max(y1)/1000))\n",
    "\n",
    "def plot_func4(correction4):\n",
    "    plt.figure(2)\n",
    "    plt.plot(y2)\n",
    "    plt.axhline(y= msprice['maize'][2016] + correction4 , color='r', linestyle='-')\n",
    "    plt.title('Minimum Price (trend) compared to MSP: CROSSING')\n",
    "    plt.xlabel('Months since January 2016')\n",
    "    plt.ylabel('Price')\n",
    "    \n",
    "interact(plot_func4, correction4 = widgets.FloatSlider(value=0,\n",
    "                                               min=-max(y2),\n",
    "                                               max=max(y2),\n",
    "                                               step=2*max(y2)/1000))"
   ]
  },
  {
   "cell_type": "code",
   "execution_count": null,
   "metadata": {},
   "outputs": [],
   "source": []
  }
 ],
 "metadata": {
  "kernelspec": {
   "display_name": "Python 3",
   "language": "python",
   "name": "python3"
  },
  "language_info": {
   "codemirror_mode": {
    "name": "ipython",
    "version": 3
   },
   "file_extension": ".py",
   "mimetype": "text/x-python",
   "name": "python",
   "nbconvert_exporter": "python",
   "pygments_lexer": "ipython3",
   "version": "3.7.0"
  }
 },
 "nbformat": 4,
 "nbformat_minor": 2
}
